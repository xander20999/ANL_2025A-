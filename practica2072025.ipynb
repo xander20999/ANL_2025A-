{
 "cells": [
  {
   "cell_type": "markdown",
   "id": "4f1c4036",
   "metadata": {},
   "source": [
    "# PRIMERA PRACTICA CON GITLAB\n",
    "\n",
    "## Método de Gauss-Seidel\n",
    "02/07/2025\n",
    "\n",
    "Para la iteración $k+1$:\n",
    "\n",
    "$$\n",
    "x_i^{(k+1)} = \\frac{1}{a_{ii}} \\left( b_i - \\sum_{j=1}^{i-1} a_{ij} x_j^{(k+1)} - \\sum_{j=i+1}^{n} a_{ij} x_j^{(k)} \\right), \\quad i = 1, 2, \\dots, n\n",
    "$$\n",
    "\n",
    "Donde:\n",
    "\n",
    "* $x_i^{(k+1)}$ es el nuevo valor de la componente $i$-ésima.\n",
    "* Se usan los **valores actualizados** $x_j^{(k+1)}$ para $j < i$.\n",
    "* Se usan los **valores anteriores** $x_j^{(k)}$ para $j > i$.\n",
    "\n",
    "### Condición de convergencia (suficiente, pero no necesaria):\n",
    "\n",
    "Una condición común es que $A$ sea **diagonalmente dominante**:\n",
    "\n",
    "$$\n",
    "|a_{ii}| > \\sum_{\\substack{j=1 \\\\ j \\ne i}}^{n} |a_{ij}|, \\quad \\text{para todo } i\n",
    "$$\n"
   ]
  },
  {
   "cell_type": "code",
   "execution_count": 9,
   "id": "fe05b6b5",
   "metadata": {},
   "outputs": [],
   "source": [
    "import numpy as np"
   ]
  },
  {
   "cell_type": "code",
   "execution_count": 16,
   "id": "8e08603b",
   "metadata": {},
   "outputs": [],
   "source": [
    "def gauss_seidel_2(A, b, x0, tolerance):\n",
    "    x = x0.copy()\n",
    "    k = 0\n",
    "    while norm(b-A*x) > tolerance and k<=100:\n",
    "        x_ant = x.copy()\n",
    "        for i in range(len(A)):\n",
    "            s1 = 0\n",
    "            s2 = 0\n",
    "            for j in range(0,i-1):\n",
    "                s1 += A[i,j]*x[j]\n",
    "            for j in range(i+1,len(A)):\n",
    "                s2 += A[i,j]*x_ant[j]\n",
    "            x[i] = (b[i]-s1-s2)/A[i,i]\n",
    "            k += 1\n",
    "    return x,k"
   ]
  },
  {
   "cell_type": "code",
   "execution_count": 18,
   "id": "64cd37b3",
   "metadata": {},
   "outputs": [
    {
     "ename": "NameError",
     "evalue": "name 'norm' is not defined",
     "output_type": "error",
     "traceback": [
      "\u001b[31m---------------------------------------------------------------------------\u001b[39m",
      "\u001b[31mNameError\u001b[39m                                 Traceback (most recent call last)",
      "\u001b[36mCell\u001b[39m\u001b[36m \u001b[39m\u001b[32mIn[18]\u001b[39m\u001b[32m, line 7\u001b[39m\n\u001b[32m      1\u001b[39m A = [[\u001b[32m4\u001b[39m, \u001b[32m1\u001b[39m, \u001b[32m2\u001b[39m],\n\u001b[32m      2\u001b[39m      [\u001b[32m3\u001b[39m, \u001b[32m5\u001b[39m, \u001b[32m1\u001b[39m],\n\u001b[32m      3\u001b[39m      [\u001b[32m1\u001b[39m, \u001b[32m1\u001b[39m, \u001b[32m3\u001b[39m]]\n\u001b[32m      5\u001b[39m b = [\u001b[32m4\u001b[39m, \u001b[32m7\u001b[39m, \u001b[32m3\u001b[39m]\n\u001b[32m----> \u001b[39m\u001b[32m7\u001b[39m sol = \u001b[43mgauss_seidel_2\u001b[49m\u001b[43m(\u001b[49m\u001b[43mA\u001b[49m\u001b[43m,\u001b[49m\u001b[43m \u001b[49m\u001b[43mb\u001b[49m\u001b[43m,\u001b[49m\u001b[43m \u001b[49m\u001b[43mnp\u001b[49m\u001b[43m.\u001b[49m\u001b[43mzeros\u001b[49m\u001b[43m(\u001b[49m\u001b[32;43m3\u001b[39;49m\u001b[43m)\u001b[49m\u001b[43m,\u001b[49m\u001b[43m \u001b[49m\u001b[32;43m1e-10\u001b[39;49m\u001b[43m)\u001b[49m\n\u001b[32m      8\u001b[39m \u001b[38;5;28mprint\u001b[39m(\u001b[33m\"\u001b[39m\u001b[33mSolución aproximada:\u001b[39m\u001b[33m\"\u001b[39m, sol)\n",
      "\u001b[36mCell\u001b[39m\u001b[36m \u001b[39m\u001b[32mIn[16]\u001b[39m\u001b[32m, line 4\u001b[39m, in \u001b[36mgauss_seidel_2\u001b[39m\u001b[34m(A, b, x0, tolerance)\u001b[39m\n\u001b[32m      2\u001b[39m x = x0.copy()\n\u001b[32m      3\u001b[39m k = \u001b[32m0\u001b[39m\n\u001b[32m----> \u001b[39m\u001b[32m4\u001b[39m \u001b[38;5;28;01mwhile\u001b[39;00m \u001b[43mnorm\u001b[49m(b-A*x) > tolerance \u001b[38;5;129;01mand\u001b[39;00m k<=\u001b[32m100\u001b[39m:\n\u001b[32m      5\u001b[39m     x_ant = x.copy()\n\u001b[32m      6\u001b[39m     \u001b[38;5;28;01mfor\u001b[39;00m i \u001b[38;5;129;01min\u001b[39;00m \u001b[38;5;28mrange\u001b[39m(\u001b[38;5;28mlen\u001b[39m(A)):\n",
      "\u001b[31mNameError\u001b[39m: name 'norm' is not defined"
     ]
    }
   ],
   "source": [
    "A = [[4, 1, 2],\n",
    "     [3, 5, 1],\n",
    "     [1, 1, 3]]\n",
    "\n",
    "b = [4, 7, 3]\n",
    "\n",
    "sol = gauss_seidel_2(A, b, np.zeros(3), 1e-10)\n",
    "print(\"Solución aproximada:\", sol)"
   ]
  }
 ],
 "metadata": {
  "kernelspec": {
   "display_name": "venv",
   "language": "python",
   "name": "python3"
  },
  "language_info": {
   "codemirror_mode": {
    "name": "ipython",
    "version": 3
   },
   "file_extension": ".py",
   "mimetype": "text/x-python",
   "name": "python",
   "nbconvert_exporter": "python",
   "pygments_lexer": "ipython3",
   "version": "3.13.2"
  }
 },
 "nbformat": 4,
 "nbformat_minor": 5
}
